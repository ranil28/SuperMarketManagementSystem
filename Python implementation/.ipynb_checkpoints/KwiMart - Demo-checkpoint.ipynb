{
 "cells": [
  {
   "cell_type": "code",
   "execution_count": null,
   "metadata": {},
   "outputs": [],
   "source": [
    "# Super Market Management System\n",
    "from mysql.connector import connect, Error\n",
    "from getpass import getpass\n",
    "import matplotlib.pyplot as plt\n",
    "import math\n",
    "import numpy as np\n",
    "import pandas as pd\n",
    "import geopandas as gpd\n",
    "from termcolor import colored\n",
    "from IPython.display import display, Image\n",
    "from datetime import date, datetime\n",
    "\n",
    "import warnings\n",
    "warnings.filterwarnings('ignore')"
   ]
  },
  {
   "cell_type": "code",
   "execution_count": null,
   "metadata": {},
   "outputs": [],
   "source": [
    "# for text bold\n",
    "b_s = \"\\033[1m\" # to start bold characters\n",
    "b_e = \"\\033[0;0m\" # to end bold characters"
   ]
  },
  {
   "cell_type": "code",
   "execution_count": null,
   "metadata": {},
   "outputs": [],
   "source": [
    "# establishing the connection\n",
    "try:\n",
    "        conn = connect(\n",
    "            host='localhost',\n",
    "            user='root',\n",
    "            password=getpass(b_s+'Enter password'+b_e),\n",
    "            database='kwikmart'\n",
    "        );\n",
    "        display(Image(filename='Kwik Mart banner.png'))\n",
    "except Error as e:\n",
    "        print(e)"
   ]
  },
  {
   "cell_type": "markdown",
   "metadata": {},
   "source": [
    "## Working with views, functions and stored procedures"
   ]
  },
  {
   "cell_type": "markdown",
   "metadata": {},
   "source": [
    "### Views"
   ]
  },
  {
   "cell_type": "markdown",
   "metadata": {},
   "source": [
    "#### 1) Employee Details: This view has only the basic details of all the active employees across all the stores. All the sensetive informations such as salary, SSN number, and higher level employess (CEO's) information has been hidden."
   ]
  },
  {
   "cell_type": "code",
   "execution_count": null,
   "metadata": {},
   "outputs": [],
   "source": [
    "query='''\n",
    "    SELECT * FROM kwikmart.employee_details\n",
    "    ''';\n",
    "df = pd.read_sql(query, conn)\n",
    "df"
   ]
  },
  {
   "cell_type": "markdown",
   "metadata": {},
   "source": [
    "#### 2) Current month's store revenue: This view helps the upper management to track the current month's revenue along with the previous day revenue across all the stores. "
   ]
  },
  {
   "cell_type": "code",
   "execution_count": null,
   "metadata": {},
   "outputs": [],
   "source": [
    "query='''\n",
    "    SELECT * FROM kwikmart.current_month_store_revenue\n",
    "    ''';\n",
    "df = pd.read_sql(query, conn)\n",
    "df"
   ]
  },
  {
   "cell_type": "markdown",
   "metadata": {},
   "source": [
    "### Functions"
   ]
  },
  {
   "cell_type": "markdown",
   "metadata": {},
   "source": [
    "#### 1) Net revenue for a particular store in a given date range: This helps each store track their performance across months or days."
   ]
  },
  {
   "cell_type": "code",
   "execution_count": null,
   "metadata": {},
   "outputs": [],
   "source": [
    "cursor = conn.cursor()"
   ]
  },
  {
   "cell_type": "code",
   "execution_count": null,
   "metadata": {},
   "outputs": [],
   "source": [
    "func = \"SELECT store_billing(%s, %s, %s)\"\n",
    "store_id = input(b_s+\"Please enter store id: \")\n",
    "start_date = input(b_s+\"From date: \")\n",
    "end_date = input(b_s+\"Till date: \")\n",
    "\n",
    "result = cursor.execute(func, [store_id, start_date, end_date])\n",
    "print(b_s+f\"Total revenue for store id {store_id} between {start_date} and {end_date} is: \"+b_e, cursor.fetchone()[0],)\n",
    "\n",
    "# 1 | 2022-01-01 | 2022-12-31"
   ]
  },
  {
   "cell_type": "markdown",
   "metadata": {},
   "source": [
    "#### 2) Update discount for product: This function let store manager create new discount or update the previous discounts along with an option to make it active or inactive"
   ]
  },
  {
   "cell_type": "code",
   "execution_count": null,
   "metadata": {},
   "outputs": [],
   "source": [
    "# item_ids : 5,8,12,58,99,127,147,169,181,205,211,213,216,235,261,267,282,285,302"
   ]
  },
  {
   "cell_type": "code",
   "execution_count": null,
   "metadata": {},
   "outputs": [],
   "source": [
    "store_id = input(b_s+\"Please enter store id: \")\n",
    "item_id = input(b_s+\"Please enter item id: \")\n",
    "\n",
    "query='''\n",
    "    SELECT * FROM kwikmart.discount\n",
    "    WHERE store_id = %s AND item_id = %s\n",
    "    ''';\n",
    "df = pd.read_sql(query, conn, params= [store_id, item_id])\n",
    "\n",
    "if df.empty:\n",
    "    print(b_s+f\"The discount for item id {item_id} does not exist. Please add the discount in next step. \")\n",
    "else:\n",
    "    display(df)\n",
    "    \n",
    "#1 1 | 285"
   ]
  },
  {
   "cell_type": "code",
   "execution_count": null,
   "metadata": {},
   "outputs": [],
   "source": [
    "func = \"SELECT update_discount(%s, %s, %s, %s)\"\n",
    "percent_off = input(b_s+\"Please enter discount %: \")\n",
    "is_active = input(b_s+\"Please enter 1 to make discount live and 0 to remove discount: \")\n",
    "\n",
    "result = cursor.execute(func, [store_id, item_id, percent_off, is_active])\n",
    "print(cursor.fetchone())\n",
    "\n",
    "df = pd.read_sql(query, conn, params= [store_id, item_id])\n",
    "conn.commit()\n",
    "df"
   ]
  },
  {
   "cell_type": "markdown",
   "metadata": {},
   "source": [
    "#### 3) Net revenue for all stores in a given date range: This helps track their performance across months or days."
   ]
  },
  {
   "cell_type": "code",
   "execution_count": null,
   "metadata": {},
   "outputs": [],
   "source": [
    "func = \"SELECT overall_billing(%s, %s)\"\n",
    "start_date = input(b_s+\"From date: \")\n",
    "end_date = input(b_s+\"Till date: \")\n",
    "\n",
    "result = cursor.execute(func, [start_date, end_date])\n",
    "print(b_s+f\"Total revenue for all stores between {start_date} and {end_date} is: \"+b_e, cursor.fetchone()[0],)\n",
    "\n",
    "# 2022-01-01 | 2022-12-31"
   ]
  },
  {
   "cell_type": "markdown",
   "metadata": {},
   "source": [
    "#### 4) Create new bill: This function initiates a new bill and generate a bill_id in bill table."
   ]
  },
  {
   "cell_type": "code",
   "execution_count": null,
   "metadata": {},
   "outputs": [],
   "source": [
    "#create bill\n",
    "func = \"SELECT create_bill(%s, %s, %s)\"\n",
    "store_id = input(b_s+\"Please enter store id: \")\n",
    "phone_no = input(b_s+\"Please enter phone number: \")\n",
    "dt = date.today()\n",
    "date_ = dt.strftime(\"%Y-%m-%d\")\n",
    "\n",
    "result = cursor.execute(func, [store_id, phone_no, date_])\n",
    "bill_id = cursor.fetchone()[0]\n",
    "print(b_s+f\"Bill id {bill_id} generated. \")\n",
    "\n",
    "conn.commit()\n",
    "# 1 | 100-736-5070"
   ]
  },
  {
   "cell_type": "markdown",
   "metadata": {},
   "source": [
    "### Stored procedures"
   ]
  },
  {
   "cell_type": "markdown",
   "metadata": {},
   "source": [
    "#### Adding item to cart: This stored procedure let customers add one or more items to cart."
   ]
  },
  {
   "cell_type": "code",
   "execution_count": null,
   "metadata": {},
   "outputs": [],
   "source": [
    "def AddToCart(conn,bill_id,before_order):\n",
    "    item = np.zeros(3,dtype=np.int)\n",
    "\n",
    "    item_id = input(b_s+\"Please enter item_id: \")\n",
    "    quantity = input(b_s+\"Please enter quantity: \")\n",
    "\n",
    "    item[0] = bill_id\n",
    "    item[1] = item_id\n",
    "    item[2] = quantity\n",
    "    \n",
    "    qry = '''\n",
    "    SELECT si.store_id, si.item_id, si.qty_in_stock FROM store_item si\n",
    "    WHERE si.item_id = %s\n",
    "    AND si.store_id = (SELECT b.store_id FROM bill b WHERE b.bill_id = %s)\n",
    "    '''\n",
    "    df = pd.read_sql(qry, conn, params=[item_id, bill_id])\n",
    "    before_order = pd.concat([before_order, df], ignore_index=True)\n",
    "    \n",
    "    cursor.callproc('add_item_to_cart', item.tolist())\n",
    "    conn.commit()\n",
    "    \n",
    "    return before_order\n",
    "\n",
    "before_order = pd.DataFrame(columns = ['store_id', 'item_id', 'qty_in_stock'])\n",
    "resp = 'Yes'"
   ]
  },
  {
   "cell_type": "code",
   "execution_count": null,
   "metadata": {},
   "outputs": [],
   "source": [
    "# item_ids : 5,8,12,58,99,127,147,169,181,205,211,213,216,235,261,267,282,285,302"
   ]
  },
  {
   "cell_type": "code",
   "execution_count": null,
   "metadata": {},
   "outputs": [],
   "source": [
    "# add item to bill\n",
    "\n",
    "while resp == 'Yes':\n",
    "    before_order = AddToCart(conn,bill_id,before_order)\n",
    "    resp = input(f\"Do you want to add more item Yes|No: \")"
   ]
  },
  {
   "cell_type": "code",
   "execution_count": null,
   "metadata": {},
   "outputs": [],
   "source": [
    "#resp = 'Yes'"
   ]
  },
  {
   "cell_type": "code",
   "execution_count": null,
   "metadata": {},
   "outputs": [],
   "source": [
    "print(b_s+\"List of items and the Quantity in Stock before item billing.\")\n",
    "before_order"
   ]
  },
  {
   "cell_type": "code",
   "execution_count": null,
   "metadata": {},
   "outputs": [],
   "source": [
    "qry = '''\n",
    "    SELECT si.store_id, si.item_id, si.qty_in_stock FROM bill b\n",
    "    JOIN bill_items bi ON bi.bill_id = b.bill_id\n",
    "    JOIN store_item si ON si.store_id = b.store_id AND si.item_id = bi.item_id\n",
    "    WHERE b.bill_id = %s\n",
    "    '''\n",
    "after_bill = pd.read_sql(qry, conn, params=[bill_id])\n",
    "print(b_s+\"List of items and the Quantity in Stock after item billing.\")\n",
    "after_bill"
   ]
  },
  {
   "cell_type": "markdown",
   "metadata": {},
   "source": [
    "##### The above result helps us to visualize the working of Trigger that we have setup on 'bill_items' table."
   ]
  },
  {
   "cell_type": "markdown",
   "metadata": {},
   "source": [
    "#### 2) Generating the bill for customer: Using this stored procedure, we can print the receipt if a customer wants to. This receipt include all the details like Store address, billing time, Items, quantity, price and the discount offered."
   ]
  },
  {
   "cell_type": "code",
   "execution_count": null,
   "metadata": {},
   "outputs": [],
   "source": [
    "query=f'''\n",
    "    SELECT bill.store_id from bill where bill.bill_id = {bill_id}\n",
    "    ''';\n",
    "df = pd.read_sql(query, conn)\n",
    "store_id = df.store_id[0]\n",
    "\n",
    "query=f'''\n",
    "    SELECT CONCAT(store.street_name,\", \",store.city,\", \",store.zip_code) address from store where store_id = {store_id}\n",
    "    ''';\n",
    "df = pd.read_sql(query, conn)\n",
    "store_addr = df.address[0]\n",
    "\n",
    "cursor.callproc('get_bill_amount', [bill_id])\n",
    "get_bill_amount_results = cursor.stored_results()\n",
    "\n",
    "print(b_s+f'%15s %30s %15s' % ('', 'KwikMart Supermarket', ''))\n",
    "print(b_s+f'%18s %30s %15s' % ('', store_addr, ''))\n",
    "print(b_s+f'%18s %30s %15s' % ('', datetime.today(), ''))\n",
    "print(b_s+f'%14s %30s %10s' % ('', f'Bill Number: {bill_id}', ''))\n",
    "print()\n",
    "\n",
    "idx = 0;\n",
    "table_content = []\n",
    "total = 0;\n",
    "net = 0;\n",
    "total_discount = 0\n",
    "print('%30s  %12s  %12s' % ('Item', 'Quantity', 'Amount'))\n",
    "print('─' * 60)\n",
    "for r in get_bill_amount_results:\n",
    "    if (idx == 0):\n",
    "        for value in r.fetchall():\n",
    "            item_name = value[0];\n",
    "            quantity = value[1];\n",
    "            unit_price = value[2];\n",
    "            item_discount = value[3];\n",
    "            item_net = value[4];\n",
    "            line = '%30s  %12s  %12s' % (item_name, quantity, unit_price)\n",
    "            print(line)\n",
    "            if (item_discount != 0) :\n",
    "                print('%45s %12s' % ('Discount: ', item_discount))\n",
    "        print('─' * 60)\n",
    "                \n",
    "    if (idx == 1):\n",
    "        for value in r.fetchall():\n",
    "            net = value[0]\n",
    "    if (idx == 2):\n",
    "        for value in r.fetchall():\n",
    "            total_discount = value[0]\n",
    "    if (idx == 3):\n",
    "        for value in r.fetchall():\n",
    "            total = value[0]\n",
    "    idx = idx + 1;\n",
    "    \n",
    "print('%45s %12s' % ('Total', total))\n",
    "print('%45s %12s' % ('Discount', total_discount))\n",
    "print('%45s %12s' % ('Net', net))"
   ]
  },
  {
   "cell_type": "markdown",
   "metadata": {},
   "source": [
    "#### Item availability at other stores: This stored procedure helps store person to recommend other nearby stores to the customer for any particular item. This helps customer to procure the items from nearby stores for unavailable items."
   ]
  },
  {
   "cell_type": "code",
   "execution_count": null,
   "metadata": {},
   "outputs": [],
   "source": [
    "# item_ids : 5,8,12,58,99,127,147,169,181,205,211,213,216,235,261,267,282,285,302"
   ]
  },
  {
   "cell_type": "code",
   "execution_count": null,
   "metadata": {},
   "outputs": [],
   "source": [
    "store_id = input(b_s+\"Please enter Store Id: \")\n",
    "item_id = input(b_s+\"Please enter Item Id: \")\n",
    "\n",
    "cursor.callproc('item_store_check', [store_id, item_id,])\n",
    "results = cursor.stored_results()\n",
    "\n",
    "for r in results:\n",
    "    for value in r.fetchall():\n",
    "        addr = value[3]\n",
    "        quantity = value[2]\n",
    "        print(b_s+f\"Store Address: {addr} Quantity: {quantity} \")"
   ]
  },
  {
   "cell_type": "markdown",
   "metadata": {},
   "source": [
    "## Some data trends at Kwik Mart"
   ]
  },
  {
   "cell_type": "markdown",
   "metadata": {},
   "source": [
    "### Looking at the category wise revenue across all stores"
   ]
  },
  {
   "cell_type": "code",
   "execution_count": null,
   "metadata": {},
   "outputs": [],
   "source": [
    "def getCategoriesRevenue(conn, start_date, end_date):\n",
    "    query='''\n",
    "    SELECT c.category_name AS Category_Name ,SUM(bi.quantity * bi.net_price) AS Revenue\n",
    "    FROM bill b\n",
    "    JOIN bill_items bi ON bi.bill_id = b.bill_id\n",
    "        AND b.bill_date >= %s and b.bill_date <= %s\n",
    "    JOIN item i ON i.item_id = bi.item_id\n",
    "    JOIN category c ON c.category_id = i.category_id\n",
    "    GROUP BY Category_Name\n",
    "    ORDER BY Revenue DESC\n",
    "    ''';\n",
    "    \n",
    "    # function to add value labels\n",
    "    def addlabels(x,y):\n",
    "        for i in range(len(x)):\n",
    "            amt = '$'+str(math.trunc(y[i]))\n",
    "            plt.text(i, y[i]//4, amt, ha = 'center',\n",
    "                     bbox = dict(facecolor = 'white', alpha =.8),\n",
    "                    rotation = 90)\n",
    "        \n",
    "    value_tuple=(start_date, end_date);\n",
    "    df = pd.read_sql(query, conn, params=[start_date, end_date])\n",
    "    plt.figure(figsize=(15, 5))\n",
    "    plt.bar(df.Category_Name, df.Revenue)\n",
    "    plt.xticks(rotation=90)\n",
    "    \n",
    "    addlabels(df.Category_Name, df.Revenue)\n",
    "    \n",
    "    # Add labels and a title.\n",
    "    plt.xlabel('Categories', labelpad=10, color='#333333',weight='bold')\n",
    "    plt.ylabel('Net Revenue', labelpad=10, color='#333333',weight='bold')\n",
    "    plt.title(f'Category wise revenue between [{start_date} , {end_date}]', pad=15, color='#333333',weight='bold')\n",
    "\n",
    "    plt.show()"
   ]
  },
  {
   "cell_type": "code",
   "execution_count": null,
   "metadata": {},
   "outputs": [],
   "source": [
    "# calling getCategoriesRevenue function\n",
    "print(b_s+\"Category wise sales across all stores, please enter the date range:\"+b_e)\n",
    "cat_rev_start = input(b_s+\"From date: \"+b_e)\n",
    "cat_rev_end = input(b_s+\"Till date: \"+b_e)\n",
    "getCategoriesRevenue(conn, cat_rev_start, cat_rev_end)\n",
    "#2022-01-01 | 2022-12-31"
   ]
  },
  {
   "cell_type": "markdown",
   "metadata": {},
   "source": [
    "### State wise no of stores and revenue "
   ]
  },
  {
   "cell_type": "code",
   "execution_count": null,
   "metadata": {},
   "outputs": [],
   "source": [
    "def numOfstoresVsRevenue(conn):\n",
    "    query1 = '''\n",
    "    Select t1.state, t1.numOfStores, t2.revenue from\n",
    "    (select count(*) as numOfStores, store.state\n",
    "    from store\n",
    "    group by store.state\n",
    "    order by store.state) t1 join \n",
    "    (    select store.state, SUM(revenue) as revenue\n",
    "    from store left outer join (\n",
    "    select bill.store_id, Sum(bill_items.quantity * bill_items.net_price) as revenue\n",
    "    from bill, bill_items\n",
    "    where bill.bill_id = bill_items.bill_id\n",
    "    group by bill.store_id) temp\n",
    "    on store.store_id = temp.store_id\n",
    "    group by store.state) t2\n",
    "    where t2.state = t1.state\n",
    "    order by t1.numOfStores\n",
    "    ''';\n",
    "    \n",
    "    df = pd.read_sql(query1, conn);\n",
    "    return df"
   ]
  },
  {
   "cell_type": "code",
   "execution_count": null,
   "metadata": {},
   "outputs": [],
   "source": [
    "# calling function\n",
    "df = numOfstoresVsRevenue(conn)\n",
    "df.rename(columns={\"state\": \"NAME\"},inplace=True)\n",
    "di = {\"SouthDakota\":\"South Dakota\", \"WestVirginia\":\"West Virginia\", \"RhodeIsland\":\"Rhode Island\", \"NewHampshire\":\"New Hampshire\", \n",
    "                \"NewMexico\":\"New Mexico\", \"NorthDakota\": \"North Dakota\",\"NewJersey\":\"New Jersey\"}\n",
    "df = df.replace({\"NAME\": di})\n",
    "\n",
    "# getting latitude and longitude for each state\n",
    "df_lat_long = pd.read_csv(\"US_States_lat_lon_final.csv\")\n",
    "df_states = df_lat_long.merge(df,on='NAME',how='outer')\n",
    "df_states[[\"numOfStores\",\"revenue\"]] = df_states[[\"numOfStores\",\"revenue\"]].fillna(0)\n",
    "df_states.head()"
   ]
  },
  {
   "cell_type": "code",
   "execution_count": null,
   "metadata": {},
   "outputs": [],
   "source": [
    "# url of our shape file \n",
    "path=r\"C:\\Users\\agraw\\Documents\\Git\\DS5110\\Python implementation\\cb_2018_us_state_20m\"\n",
    "# load the shape file using geopandas\n",
    "geo_usa = gpd.read_file(path+'\\cb_2018_us_state_20m.shp')\n",
    "\n",
    "# merge usa_state data and geo_usa shapefile\n",
    "geo_merge=geo_usa.merge(df_states,on='NAME',how='outer')\n",
    "\n",
    "indexRow = geo_merge[ (geo_merge.NAME == 'Alaska') | (geo_merge.NAME == 'Hawaii') | (geo_merge.NAME == 'Puerto Rico')].index\n",
    "geo_merge.drop(indexRow , inplace=True)\n",
    "geo_merge.reset_index(drop=True, inplace=True)\n",
    "\n",
    "# plot state wise number of stores\n",
    "geo_merge.plot(column='numOfStores', figsize=(25, 15),legend=True,cmap='summer')\n",
    "plt.xlim(-130,-60)\n",
    "plt.ylim(20,55)\n",
    "# add countries names and numbers \n",
    "for i in range(len(geo_merge)):\n",
    "    plt.text(geo_merge.lon[i],geo_merge.lat[i],\"{}\\n   {}\".format(geo_merge.NAME[i],int(geo_merge.numOfStores[i])),size=10)\n",
    "plt.title('Number of stores by States',pad=25,fontsize=25)\n",
    "plt.show()"
   ]
  },
  {
   "cell_type": "code",
   "execution_count": null,
   "metadata": {},
   "outputs": [],
   "source": [
    "# plot state wise revenue\n",
    "geo_merge.plot(column='revenue',scheme=\"quantiles\", figsize=(25, 15),legend=True,cmap='summer')\n",
    "plt.xlim(-130,-60)\n",
    "plt.ylim(20,55)\n",
    "# add countries names and numbers \n",
    "for i in range(len(geo_merge)):\n",
    "    plt.text(geo_merge.lon[i],geo_merge.lat[i],\\\n",
    "             \"\\n{}\\n ${}\".format(geo_merge.NAME[i],int(geo_merge.revenue[i])),size=10)\n",
    "plt.title('Revenue by States',pad=25,fontsize=25)\n",
    "plt.show()"
   ]
  },
  {
   "cell_type": "markdown",
   "metadata": {},
   "source": [
    "### Quarter-wise business performance based on Revenue"
   ]
  },
  {
   "cell_type": "code",
   "execution_count": null,
   "metadata": {},
   "outputs": [],
   "source": [
    "def revenueInEachQuarter(conn, year):\n",
    "    query='''\n",
    "    SELECT CEILING(MONTH(b.bill_date)/3) AS quarter, SUM(bi.net_price*bi.quantity) net_revenue\n",
    "    FROM bill_items bi\n",
    "    JOIN bill b ON b.bill_id = bi.bill_id\n",
    "    WHERE b.bill_date LIKE %s\n",
    "    GROUP BY 1\n",
    "    ORDER BY quarter\n",
    "    ''';\n",
    "    \n",
    "    value_tuple = (year+'%',)\n",
    "    df = pd.read_sql(query, conn,params = value_tuple)\n",
    "    idx = df[['net_revenue']].idxmax()\n",
    "    myexplode = np.zeros(len(df.quarter))\n",
    "    myexplode[idx[0]] = 0.1\n",
    "    \n",
    "    plt.figure(figsize=(7, 7))\n",
    "    plt.pie(df.net_revenue, labels = df.quarter,autopct='%.0f%%', explode = myexplode)\n",
    "    plt.title(f'Quarterly Revenue for year {year}',pad=10,fontsize=15)\n",
    "\n",
    "    plt.show()"
   ]
  },
  {
   "cell_type": "code",
   "execution_count": null,
   "metadata": {},
   "outputs": [],
   "source": [
    "# pie-chart to visulize quarterly performance\n",
    "qtr_year = input(b_s+\"Quarterly performance, please enter the year: \"+b_e)\n",
    "revenueInEachQuarter(conn,qtr_year)"
   ]
  },
  {
   "cell_type": "code",
   "execution_count": null,
   "metadata": {},
   "outputs": [],
   "source": [
    "conn.close()\n",
    "cursor.close()"
   ]
  }
 ],
 "metadata": {
  "kernelspec": {
   "display_name": "Python 3 (ipykernel)",
   "language": "python",
   "name": "python3"
  },
  "language_info": {
   "codemirror_mode": {
    "name": "ipython",
    "version": 3
   },
   "file_extension": ".py",
   "mimetype": "text/x-python",
   "name": "python",
   "nbconvert_exporter": "python",
   "pygments_lexer": "ipython3",
   "version": "3.9.12"
  }
 },
 "nbformat": 4,
 "nbformat_minor": 4
}
